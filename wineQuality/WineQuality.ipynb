{
 "cells": [
  {
   "cell_type": "markdown",
   "metadata": {},
   "source": [
    "## Wine Quality Dataset\n",
    "\n",
    "The dataset used refers to the quality of red wine. It is comprissed of 12 numeric (real) features:\n",
    "1. Fixed acidity\n",
    "2. Volatile acidity\n",
    "3. Citric acidity\n",
    "4. Residual Sugar\n",
    "5. Chlorides\n",
    "6. Free sulfur dioxide\n",
    "7. Total sulfur dioxide\n",
    "8. Density\n",
    "9. pH\n",
    "10. Sulphates\n",
    "11. Alcohol\n",
    "\n",
    "The label is the quality of the wine, an integer number ranging from 0 to 10."
   ]
  },
  {
   "cell_type": "code",
   "execution_count": 18,
   "metadata": {},
   "outputs": [],
   "source": [
    "import pandas as pd\n",
    "%matplotlib inline \n",
    "import matplotlib.pyplot as plt \n",
    "import matplotlib.gridspec as gridspec \n",
    "from sklearn.decomposition import PCA\n",
    "import numpy as np\n",
    "from numpy import linalg as LA\n",
    "from sklearn.neural_network import MLPClassifier\n",
    "from sklearn.metrics import confusion_matrix, f1_score, precision_score, recall_score\n",
    "import math\n",
    "from sklearn.ensemble import RandomForestClassifier\n",
    "from sklearn.model_selection import train_test_split"
   ]
  },
  {
   "cell_type": "markdown",
   "metadata": {},
   "source": [
    "# Data pre-processing"
   ]
  },
  {
   "cell_type": "code",
   "execution_count": 2,
   "metadata": {},
   "outputs": [
    {
     "data": {
      "text/html": [
       "<div>\n",
       "<style scoped>\n",
       "    .dataframe tbody tr th:only-of-type {\n",
       "        vertical-align: middle;\n",
       "    }\n",
       "\n",
       "    .dataframe tbody tr th {\n",
       "        vertical-align: top;\n",
       "    }\n",
       "\n",
       "    .dataframe thead th {\n",
       "        text-align: right;\n",
       "    }\n",
       "</style>\n",
       "<table border=\"1\" class=\"dataframe\">\n",
       "  <thead>\n",
       "    <tr style=\"text-align: right;\">\n",
       "      <th></th>\n",
       "      <th>fixed acidity</th>\n",
       "      <th>volatile acidity</th>\n",
       "      <th>citric acid</th>\n",
       "      <th>residual sugar</th>\n",
       "      <th>chlorides</th>\n",
       "      <th>free sulfur dioxide</th>\n",
       "      <th>total sulfur dioxide</th>\n",
       "      <th>density</th>\n",
       "      <th>pH</th>\n",
       "      <th>sulphates</th>\n",
       "      <th>alcohol</th>\n",
       "      <th>quality</th>\n",
       "    </tr>\n",
       "  </thead>\n",
       "  <tbody>\n",
       "    <tr>\n",
       "      <th>0</th>\n",
       "      <td>7.4</td>\n",
       "      <td>0.70</td>\n",
       "      <td>0.00</td>\n",
       "      <td>1.9</td>\n",
       "      <td>0.076</td>\n",
       "      <td>11.0</td>\n",
       "      <td>34.0</td>\n",
       "      <td>0.9978</td>\n",
       "      <td>3.51</td>\n",
       "      <td>0.56</td>\n",
       "      <td>9.4</td>\n",
       "      <td>5</td>\n",
       "    </tr>\n",
       "    <tr>\n",
       "      <th>1</th>\n",
       "      <td>7.8</td>\n",
       "      <td>0.88</td>\n",
       "      <td>0.00</td>\n",
       "      <td>2.6</td>\n",
       "      <td>0.098</td>\n",
       "      <td>25.0</td>\n",
       "      <td>67.0</td>\n",
       "      <td>0.9968</td>\n",
       "      <td>3.20</td>\n",
       "      <td>0.68</td>\n",
       "      <td>9.8</td>\n",
       "      <td>5</td>\n",
       "    </tr>\n",
       "    <tr>\n",
       "      <th>2</th>\n",
       "      <td>7.8</td>\n",
       "      <td>0.76</td>\n",
       "      <td>0.04</td>\n",
       "      <td>2.3</td>\n",
       "      <td>0.092</td>\n",
       "      <td>15.0</td>\n",
       "      <td>54.0</td>\n",
       "      <td>0.9970</td>\n",
       "      <td>3.26</td>\n",
       "      <td>0.65</td>\n",
       "      <td>9.8</td>\n",
       "      <td>5</td>\n",
       "    </tr>\n",
       "    <tr>\n",
       "      <th>3</th>\n",
       "      <td>11.2</td>\n",
       "      <td>0.28</td>\n",
       "      <td>0.56</td>\n",
       "      <td>1.9</td>\n",
       "      <td>0.075</td>\n",
       "      <td>17.0</td>\n",
       "      <td>60.0</td>\n",
       "      <td>0.9980</td>\n",
       "      <td>3.16</td>\n",
       "      <td>0.58</td>\n",
       "      <td>9.8</td>\n",
       "      <td>6</td>\n",
       "    </tr>\n",
       "    <tr>\n",
       "      <th>4</th>\n",
       "      <td>7.4</td>\n",
       "      <td>0.70</td>\n",
       "      <td>0.00</td>\n",
       "      <td>1.9</td>\n",
       "      <td>0.076</td>\n",
       "      <td>11.0</td>\n",
       "      <td>34.0</td>\n",
       "      <td>0.9978</td>\n",
       "      <td>3.51</td>\n",
       "      <td>0.56</td>\n",
       "      <td>9.4</td>\n",
       "      <td>5</td>\n",
       "    </tr>\n",
       "  </tbody>\n",
       "</table>\n",
       "</div>"
      ],
      "text/plain": [
       "   fixed acidity  volatile acidity  citric acid  residual sugar  chlorides  \\\n",
       "0            7.4              0.70         0.00             1.9      0.076   \n",
       "1            7.8              0.88         0.00             2.6      0.098   \n",
       "2            7.8              0.76         0.04             2.3      0.092   \n",
       "3           11.2              0.28         0.56             1.9      0.075   \n",
       "4            7.4              0.70         0.00             1.9      0.076   \n",
       "\n",
       "   free sulfur dioxide  total sulfur dioxide  density    pH  sulphates  \\\n",
       "0                 11.0                  34.0   0.9978  3.51       0.56   \n",
       "1                 25.0                  67.0   0.9968  3.20       0.68   \n",
       "2                 15.0                  54.0   0.9970  3.26       0.65   \n",
       "3                 17.0                  60.0   0.9980  3.16       0.58   \n",
       "4                 11.0                  34.0   0.9978  3.51       0.56   \n",
       "\n",
       "   alcohol  quality  \n",
       "0      9.4        5  \n",
       "1      9.8        5  \n",
       "2      9.8        5  \n",
       "3      9.8        6  \n",
       "4      9.4        5  "
      ]
     },
     "execution_count": 2,
     "metadata": {},
     "output_type": "execute_result"
    }
   ],
   "source": [
    "df = pd.read_csv(\"winequality-red.csv\",header = 0,sep=\";\")\n",
    "df.head()"
   ]
  },
  {
   "cell_type": "markdown",
   "metadata": {},
   "source": [
    "###### Check how many different classes are there."
   ]
  },
  {
   "cell_type": "code",
   "execution_count": 3,
   "metadata": {
    "scrolled": true
   },
   "outputs": [
    {
     "name": "stdout",
     "output_type": "stream",
     "text": [
      "       fixed acidity  volatile acidity  citric acid  residual sugar  \\\n",
      "count    1599.000000       1599.000000  1599.000000     1599.000000   \n",
      "mean        8.319637          0.527821     0.270976        2.538806   \n",
      "std         1.741096          0.179060     0.194801        1.409928   \n",
      "min         4.600000          0.120000     0.000000        0.900000   \n",
      "25%         7.100000          0.390000     0.090000        1.900000   \n",
      "50%         7.900000          0.520000     0.260000        2.200000   \n",
      "75%         9.200000          0.640000     0.420000        2.600000   \n",
      "max        15.900000          1.580000     1.000000       15.500000   \n",
      "\n",
      "         chlorides  free sulfur dioxide  total sulfur dioxide      density  \\\n",
      "count  1599.000000          1599.000000           1599.000000  1599.000000   \n",
      "mean      0.087467            15.874922             46.467792     0.996747   \n",
      "std       0.047065            10.460157             32.895324     0.001887   \n",
      "min       0.012000             1.000000              6.000000     0.990070   \n",
      "25%       0.070000             7.000000             22.000000     0.995600   \n",
      "50%       0.079000            14.000000             38.000000     0.996750   \n",
      "75%       0.090000            21.000000             62.000000     0.997835   \n",
      "max       0.611000            72.000000            289.000000     1.003690   \n",
      "\n",
      "                pH    sulphates      alcohol      quality  \n",
      "count  1599.000000  1599.000000  1599.000000  1599.000000  \n",
      "mean      3.311113     0.658149    10.422983     5.636023  \n",
      "std       0.154386     0.169507     1.065668     0.807569  \n",
      "min       2.740000     0.330000     8.400000     3.000000  \n",
      "25%       3.210000     0.550000     9.500000     5.000000  \n",
      "50%       3.310000     0.620000    10.200000     6.000000  \n",
      "75%       3.400000     0.730000    11.100000     6.000000  \n",
      "max       4.010000     2.000000    14.900000     8.000000  \n",
      "[5 6 7 4 8 3]\n"
     ]
    }
   ],
   "source": [
    "print(df.describe())\n",
    "print(df.quality.unique())"
   ]
  },
  {
   "cell_type": "code",
   "execution_count": 4,
   "metadata": {},
   "outputs": [
    {
     "data": {
      "image/png": "[encoded data removed]",
      "text/plain": [
       "<Figure size 432x288 with 1 Axes>"
      ]
     },
     "metadata": {
      "needs_background": "light"
     },
     "output_type": "display_data"
    }
   ],
   "source": [
    "a=df['quality']\n",
    "plt.hist(a)\n",
    "plt.title('Quality (3, 4, 5, 6, 7, 8)')\n",
    "plt.show()"
   ]
  },
  {
   "cell_type": "markdown",
   "metadata": {},
   "source": [
    "###### The dataset is clearly unbalanced. We will consider any value below 5, to be equal to 5. Analogously, any value above 6 will be set to 6"
   ]
  },
  {
   "cell_type": "code",
   "execution_count": 5,
   "metadata": {},
   "outputs": [
    {
     "name": "stderr",
     "output_type": "stream",
     "text": [
      "c:\\program files\\python37\\lib\\site-packages\\ipykernel_launcher.py:6: SettingWithCopyWarning: \n",
      "A value is trying to be set on a copy of a slice from a DataFrame\n",
      "\n",
      "See the caveats in the documentation: http://pandas.pydata.org/pandas-docs/stable/indexing.html#indexing-view-versus-copy\n",
      "  \n",
      "c:\\program files\\python37\\lib\\site-packages\\ipykernel_launcher.py:9: SettingWithCopyWarning: \n",
      "A value is trying to be set on a copy of a slice from a DataFrame\n",
      "\n",
      "See the caveats in the documentation: http://pandas.pydata.org/pandas-docs/stable/indexing.html#indexing-view-versus-copy\n",
      "  if __name__ == '__main__':\n"
     ]
    },
    {
     "data": {
      "image/png": "[encoded data removed]",
      "text/plain": [
       "<Figure size 432x288 with 1 Axes>"
      ]
     },
     "metadata": {
      "needs_background": "light"
     },
     "output_type": "display_data"
    },
    {
     "name": "stdout",
     "output_type": "stream",
     "text": [
      "Number of rows with label 5:  744\n",
      "Number of rows with label 6:  855\n"
     ]
    }
   ],
   "source": [
    "label_6 = 0\n",
    "label_5 = 0\n",
    "size = len(df['quality'])\n",
    "for i in range(0,size):\n",
    "    if(df['quality'][i]<=5):\n",
    "        df['quality'][i] = 5\n",
    "        label_5+=1\n",
    "    else:\n",
    "        df['quality'][i] = 6\n",
    "        label_6+=1\n",
    "\n",
    "a = df['quality']\n",
    "plt.hist(a)        \n",
    "plt.title('Quality (5, 6)')\n",
    "plt.show()\n",
    "print('Number of rows with label 5: ',label_5)\n",
    "print('Number of rows with label 6: ',label_6)"
   ]
  },
  {
   "cell_type": "markdown",
   "metadata": {},
   "source": [
    "###### Check if there any missing values"
   ]
  },
  {
   "cell_type": "code",
   "execution_count": 6,
   "metadata": {},
   "outputs": [
    {
     "data": {
      "text/plain": [
       "fixed acidity           0\n",
       "volatile acidity        0\n",
       "citric acid             0\n",
       "residual sugar          0\n",
       "chlorides               0\n",
       "free sulfur dioxide     0\n",
       "total sulfur dioxide    0\n",
       "density                 0\n",
       "pH                      0\n",
       "sulphates               0\n",
       "alcohol                 0\n",
       "quality                 0\n",
       "dtype: int64"
      ]
     },
     "execution_count": 6,
     "metadata": {},
     "output_type": "execute_result"
    }
   ],
   "source": [
    "df.isnull().sum()"
   ]
  },
  {
   "cell_type": "markdown",
   "metadata": {},
   "source": [
    "###### Separate features from label"
   ]
  },
  {
   "cell_type": "code",
   "execution_count": 7,
   "metadata": {},
   "outputs": [],
   "source": [
    "label = df['quality']\n",
    "#print(label)\n",
    "features = df.drop('quality', 1)\n",
    "#print(features)"
   ]
  },
  {
   "cell_type": "markdown",
   "metadata": {},
   "source": [
    "#### Principal Component Analysis"
   ]
  },
  {
   "cell_type": "code",
   "execution_count": 8,
   "metadata": {},
   "outputs": [
    {
     "name": "stdout",
     "output_type": "stream",
     "text": [
      "singular values  [1.34604001e+03 3.04270910e+02 7.03980188e+01 5.39205496e+01\n",
      " 4.08907312e+01 8.13338635e+00 6.08784585e+00 4.25812831e+00\n",
      " 4.01305602e+00 1.52482330e+00 2.99541200e-02]\n"
     ]
    }
   ],
   "source": [
    "X = features.values # numpy array version of the data\n",
    "#print(X)\n",
    "#print(X.shape)\n",
    "pca = PCA(n_components=11)\n",
    "pca.fit(X)\n",
    "print('singular values ', pca.singular_values_)\n",
    "#print('normalized cumulative sum of eigenvalues \\n', pca.explained_variance_ratio_)"
   ]
  },
  {
   "cell_type": "code",
   "execution_count": 9,
   "metadata": {},
   "outputs": [
    {
     "name": "stdout",
     "output_type": "stream",
     "text": [
      "0.7317155110470211\n",
      "0.1654035114570659\n",
      "0.03826878988903281\n",
      "0.029311537746128578\n",
      "0.022228449411410795\n",
      "0.0044213581394347895\n",
      "0.0033093899205821663\n",
      "0.0023147443711498492\n",
      "0.0021815215874068997\n",
      "0.0008289031895255733\n",
      "1.6283241241330565e-05\n",
      "[1.13380708e+03 5.79354108e+01 3.10130228e+00 1.81941532e+00\n",
      " 1.04634036e+00 4.13967294e-02 2.31926578e-02 1.13464685e-02\n",
      " 1.00779841e-02 1.45499755e-03 5.61482667e-07]\n"
     ]
    }
   ],
   "source": [
    "variance_ratio = pca.explained_variance_\n",
    "\n",
    "sum_ratios = sum(variance_ratio)\n",
    "sum_singularValues = sum(pca.singular_values_)\n",
    "\n",
    "for i in pca.singular_values_:\n",
    "    ratio = i / sum_singularValues\n",
    "    print(ratio)\n",
    "\n",
    "print(variance_ratio)\n",
    "#print(sum_singularValues)\n",
    "#print(sum_ratios)"
   ]
  },
  {
   "cell_type": "markdown",
   "metadata": {},
   "source": [
    "As we can see listes above, we can project the data into the first 6 components in order to attain 99% of the variance. We will considere the data projected on these six components from now onwards."
   ]
  },
  {
   "cell_type": "code",
   "execution_count": 10,
   "metadata": {},
   "outputs": [
    {
     "name": "stdout",
     "output_type": "stream",
     "text": [
      "The squared error 8.580450211303233\n"
     ]
    }
   ],
   "source": [
    "## Repeating to \n",
    "pca = PCA(n_components=6)\n",
    "X_pca = pca.fit_transform(X)\n",
    "## Reconstruction\n",
    "X1=pca.inverse_transform(X_pca)\n",
    "a=X-X1\n",
    "print('The squared error', LA.norm(a))"
   ]
  },
  {
   "cell_type": "markdown",
   "metadata": {},
   "source": [
    "#### Plot the data on the two components"
   ]
  },
  {
   "cell_type": "code",
   "execution_count": 11,
   "metadata": {},
   "outputs": [],
   "source": [
    "y = label.values\n",
    "#plt.scatter(X_pca[y==5, 0], X1[y==5, 1], color='red', marker='^', alpha=0.5)\n",
    "#plt.scatter(X_pca[y == 6, 0], X1[y == 6, 1], color='blue', marker='o', alpha=0.5)\n",
    "#plt.grid()"
   ]
  },
  {
   "cell_type": "markdown",
   "metadata": {},
   "source": [
    "## Learning Models\n",
    "\n",
    "On the red wine dataset the following learning models will be applied:\n",
    "1. Neural Network\n",
    "2. Random Forests"
   ]
  },
  {
   "cell_type": "markdown",
   "metadata": {},
   "source": [
    "### Neural Network"
   ]
  },
  {
   "cell_type": "markdown",
   "metadata": {},
   "source": [
    "In this section we are going to apply a neural network to descriminate between the two classes of wine being used at the moment. Taking into consideration the several hyperparameters in th neural network, in order to attain maximum performance, we are going to change the following hyperparameters:\n",
    "1. Number of hidden layers\n",
    "2. Hidden layers size\n",
    "\n",
    "The maximum number of iteration will be default, thus set to 5000.\n",
    "The accuracy will be used as a measure of performance. The validation test to be used will be the holdout method - 70% dataset to training, 30% to test."
   ]
  },
  {
   "cell_type": "markdown",
   "metadata": {},
   "source": [
    "###### Divide dataset in training and testing"
   ]
  },
  {
   "cell_type": "code",
   "execution_count": 49,
   "metadata": {},
   "outputs": [],
   "source": [
    "X_train, X_test, y_train, y_test = train_test_split(X_pca, y, random_state=0)"
   ]
  },
  {
   "cell_type": "markdown",
   "metadata": {},
   "source": [
    "The maximum number of hidden layers to be used will be two. The maximum number of each hidden layer will be 10. We are going to test every combination of this number of hidden layers and layer size to determine the best configuration. The learning rate and maximum number of iterations will be the default one for now."
   ]
  },
  {
   "cell_type": "code",
   "execution_count": 60,
   "metadata": {},
   "outputs": [],
   "source": [
    "accuracy_list = []\n",
    "for i in range(0, 10):\n",
    "    for j in range(1, 10):\n",
    "        if(i==0):\n",
    "            mlp = MLPClassifier(activation='tanh', hidden_layer_sizes=(j),alpha=0.01, max_iter=5000, random_state=42)\n",
    "        else:\n",
    "            mlp = MLPClassifier(activation='tanh', hidden_layer_sizes=(j,i),alpha=0.01, max_iter=5000, random_state=42)\n",
    "        mlp.fit(X_train, y_train)\n",
    "        performance = mlp.score(X_test, y_test)\n",
    "        accuracy_list.append(performance)\n",
    "\n",
    "\n"
   ]
  },
  {
   "cell_type": "code",
   "execution_count": 61,
   "metadata": {},
   "outputs": [
    {
     "name": "stdout",
     "output_type": "stream",
     "text": [
      "Maximum index:  4\n",
      "Maximum accuracy:  0.7625\n",
      "Minimum accuracy:  0.575\n",
      "Best configuration is: first hidden layer size - 4; second hidden layer size - 0\n"
     ]
    }
   ],
   "source": [
    "def getConfiguration(index):\n",
    "    i, d = divmod(index, 10)\n",
    "    if(d == 0):\n",
    "        if(i==0):\n",
    "            config = [10, i]\n",
    "        else:\n",
    "            config = [10, i-1]\n",
    "    else:\n",
    "        config = [d, i]\n",
    "    return config\n",
    "    \n",
    "maximum_accuracy = max(accuracy_list)\n",
    "maximum_index = accuracy_list.index(maximum_accuracy)\n",
    "print(\"Maximum index: \", maximum_index)\n",
    "print(\"Maximum accuracy: \", maximum_accuracy)\n",
    "print(\"Minimum accuracy: \", min(accuracy_list))\n",
    "config = getConfiguration(maximum_index)\n",
    "print(\"Best configuration is: first hidden layer size - \"+str(config[0])+\"; second hidden layer size - \"+str(config[1]))"
   ]
  },
  {
   "cell_type": "markdown",
   "metadata": {},
   "source": [
    "After finding the best configuaration, we move on to finding the best learning rate. We will consider the following list for alpha: 0.1, 0.01, 0.001, 0.0001."
   ]
  },
  {
   "cell_type": "code",
   "execution_count": 62,
   "metadata": {},
   "outputs": [
    {
     "name": "stdout",
     "output_type": "stream",
     "text": [
      "Optimal learning rate:  0.1\n",
      "Maximum accuracy:  0.745\n"
     ]
    },
    {
     "data": {
      "text/plain": [
       "[0.745, 0.745, 0.745, 0.745]"
      ]
     },
     "execution_count": 62,
     "metadata": {},
     "output_type": "execute_result"
    }
   ],
   "source": [
    "accuracy_list_alpha = []\n",
    "learning_rate = [0.1, 0.01, 0.001, 0.0001]\n",
    "for i in learning_rate:\n",
    "    if(config[1]==0):\n",
    "        mlp = MLPClassifier(activation='tanh', hidden_layer_sizes=(config[0]),alpha=i, max_iter=5000, random_state=42)\n",
    "    else:\n",
    "        mlp = MLPClassifier(activation='tanh', hidden_layer_sizes=(config[0], config[1]),alpha=i, max_iter=5000, random_state=42)\n",
    "        \n",
    "    mlp.fit(X_train, y_train)\n",
    "    performance = mlp.score(X_test, y_test)\n",
    "    accuracy_list_alpha.append(performance)\n",
    "\n",
    "maximum_accuracy = max(accuracy_list_alpha)\n",
    "maximum_index = accuracy_list_alpha.index(maximum_accuracy)\n",
    "\n",
    "if(maximum_index == 0):\n",
    "    learning_rate = 0.1\n",
    "elif(maximum_index == 1):\n",
    "    learning_rate = 0.01\n",
    "elif(maximum_index == 2):\n",
    "    learning_rate = 0.001\n",
    "else:\n",
    "    learning_rate = 0.0001\n",
    "\n",
    "print(\"Optimal learning rate: \", learning_rate)    \n",
    "print(\"Maximum accuracy: \", maximum_accuracy)\n",
    "accuracy_list_alpha"
   ]
  },
  {
   "cell_type": "markdown",
   "metadata": {},
   "source": [
    "Test the optimal model and check its confusion matrix"
   ]
  },
  {
   "cell_type": "code",
   "execution_count": 63,
   "metadata": {},
   "outputs": [
    {
     "data": {
      "text/plain": [
       "array([[140,  45],\n",
       "       [ 57, 158]], dtype=int64)"
      ]
     },
     "execution_count": 63,
     "metadata": {},
     "output_type": "execute_result"
    }
   ],
   "source": [
    "if(config[1]==0):\n",
    "    mlp = MLPClassifier(activation='tanh', hidden_layer_sizes=(config[0]),alpha=learning_rate, max_iter=5000, random_state=42)\n",
    "else:\n",
    "    mlp = MLPClassifier(activation='tanh', hidden_layer_sizes=(config[0], config[1]),alpha=learning_rate, max_iter=5000, random_state=42)\n",
    "\n",
    "mlp.fit(X_train, y_train)\n",
    "prediction = mlp.predict(X_test)\n",
    "cm = confusion_matrix(y_test, prediction)\n",
    "cm"
   ]
  },
  {
   "cell_type": "markdown",
   "metadata": {},
   "source": [
    "Above we calculate other performance metrics, like the f1 score, precision and recall."
   ]
  },
  {
   "cell_type": "code",
   "execution_count": 64,
   "metadata": {},
   "outputs": [
    {
     "name": "stdout",
     "output_type": "stream",
     "text": [
      "F1 score is  0.7329842931937173\n",
      "Precision is  0.7106598984771574\n",
      "Recall is  0.7567567567567568\n"
     ]
    }
   ],
   "source": [
    "f1 = f1_score(y_test, prediction, average=\"binary\", pos_label=5)\n",
    "precision = precision_score(y_test, prediction, average=\"binary\", pos_label=5)\n",
    "recall = recall_score(y_test, prediction, average=\"binary\", pos_label=5)\n",
    "\n",
    "print(\"F1 score is \", f1)\n",
    "print(\"Precision is \", precision)\n",
    "print(\"Recall is \", recall)"
   ]
  },
  {
   "cell_type": "markdown",
   "metadata": {},
   "source": [
    "### Random Forest"
   ]
  },
  {
   "cell_type": "markdown",
   "metadata": {},
   "source": [
    "In the context of the random forest, the hyperparameters to be studied will be:\n",
    "1. The depth of the decision trees\n",
    "2. The number of trees\n",
    "\n",
    "We will vary first the number of trees, from 1 to 150."
   ]
  },
  {
   "cell_type": "code",
   "execution_count": 65,
   "metadata": {},
   "outputs": [
    {
     "name": "stdout",
     "output_type": "stream",
     "text": [
      "The optimal number of estimators is:  1\n",
      "The maximum accuracy is:  0.745\n"
     ]
    }
   ],
   "source": [
    "forest_accuracy_list = []\n",
    "for estimators in range(1, 151):\n",
    "    forest = RandomForestClassifier(max_depth=3, min_samples_split=5,n_estimators=estimators, max_features='log2', oob_score=False, random_state=42)\n",
    "    forest.fit(X_train, y_train)\n",
    "    forest_performance = mlp.score(X_test, y_test)\n",
    "    forest_accuracy_list.append(forest_performance)\n",
    "\n",
    "forest_maximum_accuracy = max(forest_accuracy_list)\n",
    "number_estimators = forest_accuracy_list.index(forest_maximum_accuracy)+1\n",
    "print(\"The optimal number of estimators is: \",number_estimators)\n",
    "print(\"The maximum accuracy is: \", forest_maximum_accuracy)\n",
    "    "
   ]
  },
  {
   "cell_type": "markdown",
   "metadata": {},
   "source": [
    "The next step is to vary the depth of the decision trees, using a random forest with the optimal number of estimators."
   ]
  },
  {
   "cell_type": "code",
   "execution_count": 66,
   "metadata": {},
   "outputs": [
    {
     "name": "stdout",
     "output_type": "stream",
     "text": [
      "The optimal depth is:  1\n",
      "The maximum accuracy is:  0.745\n",
      "The minimum accuracy is:  0.575\n"
     ]
    }
   ],
   "source": [
    "forest_accuracy_list_alpha = []\n",
    "for i in range(1, 30):\n",
    "    forest = RandomForestClassifier(max_depth=i, min_samples_split=5,n_estimators=number_estimators, max_features='log2', oob_score=False, random_state=42)\n",
    "    forest.fit(X_train, y_train)\n",
    "    performance = mlp.score(X_test, y_test)\n",
    "    forest_accuracy_list_alpha.append(performance)\n",
    "\n",
    "maximum_accuracy = max(forest_accuracy_list_alpha)\n",
    "depth = forest_accuracy_list_alpha.index(maximum_accuracy)+1\n",
    "print(\"The optimal depth is: \",depth)\n",
    "print(\"The maximum accuracy is: \", maximum_accuracy)\n",
    "print(\"The minimum accuracy is: \", min(accuracy_list))"
   ]
  },
  {
   "cell_type": "code",
   "execution_count": 67,
   "metadata": {},
   "outputs": [
    {
     "data": {
      "text/plain": [
       "array([[ 49, 136],\n",
       "       [ 25, 190]], dtype=int64)"
      ]
     },
     "execution_count": 67,
     "metadata": {},
     "output_type": "execute_result"
    }
   ],
   "source": [
    "forest = RandomForestClassifier(max_depth=depth, min_samples_split=5,n_estimators=number_estimators, max_features='log2', oob_score=False, random_state=42)\n",
    "\n",
    "forest.fit(X_train, y_train)\n",
    "prediction = forest.predict(X_test)\n",
    "cm = confusion_matrix(y_test, prediction)\n",
    "cm"
   ]
  },
  {
   "cell_type": "code",
   "execution_count": 68,
   "metadata": {},
   "outputs": [
    {
     "name": "stdout",
     "output_type": "stream",
     "text": [
      "F1 score is  0.3783783783783784\n",
      "Precision is  0.6621621621621622\n",
      "Recall is  0.2648648648648649\n"
     ]
    }
   ],
   "source": [
    "f1 = f1_score(y_test, prediction, average=\"binary\", pos_label=5)\n",
    "precision = precision_score(y_test, prediction, average=\"binary\", pos_label=5)\n",
    "recall = recall_score(y_test, prediction, average=\"binary\", pos_label=5)\n",
    "\n",
    "print(\"F1 score is \", f1)\n",
    "print(\"Precision is \", precision)\n",
    "print(\"Recall is \", recall)"
   ]
  },
  {
   "cell_type": "markdown",
   "metadata": {},
   "source": [
    "### Evaluation of the models"
   ]
  },
  {
   "cell_type": "code",
   "execution_count": null,
   "metadata": {},
   "outputs": [],
   "source": []
  }
 ],
 "metadata": {
  "kernelspec": {
   "display_name": "Python 3",
   "language": "python",
   "name": "python3"
  },
  "language_info": {
   "codemirror_mode": {
    "name": "ipython",
    "version": 3
   },
   "file_extension": ".py",
   "mimetype": "text/x-python",
   "name": "python",
   "nbconvert_exporter": "python",
   "pygments_lexer": "ipython3",
   "version": "3.7.0"
  }
 },
 "nbformat": 4,
 "nbformat_minor": 2
}
